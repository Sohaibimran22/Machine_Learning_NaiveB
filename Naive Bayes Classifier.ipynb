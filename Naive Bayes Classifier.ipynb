{
 "cells": [
  {
   "cell_type": "markdown",
   "metadata": {},
   "source": [
    "# Import the Libraries"
   ]
  },
  {
   "cell_type": "code",
   "execution_count": 19,
   "metadata": {},
   "outputs": [],
   "source": [
    "import numpy as np\n",
    "from sklearn import metrics\n",
    "from sklearn.model_selection import train_test_split\n",
    "from sklearn import datasets\n",
    "import matplotlib.pyplot as plt"
   ]
  },
  {
   "cell_type": "markdown",
   "metadata": {},
   "source": [
    "# Load the Dataset"
   ]
  },
  {
   "cell_type": "code",
   "execution_count": 20,
   "metadata": {},
   "outputs": [
    {
     "name": "stdout",
     "output_type": "stream",
     "text": [
      "[0 1 2]\n"
     ]
    }
   ],
   "source": [
    "iris = datasets.load_iris()\n",
    "x_d = iris['data']\n",
    "y_d = iris['target']\n",
    "\n",
    "print(np.unique(y_d))"
   ]
  },
  {
   "cell_type": "markdown",
   "metadata": {},
   "source": [
    "# Remove the class from dataset"
   ]
  },
  {
   "cell_type": "code",
   "execution_count": 21,
   "metadata": {},
   "outputs": [],
   "source": [
    "idx=np.where(y_d!=2)\n",
    "x_d=x_d[idx,:]\n",
    "y_d=y_d[idx]\n",
    "\n",
    "x_d=np.reshape(x_d,(np.shape(y_d)[0],4))"
   ]
  },
  {
   "cell_type": "markdown",
   "metadata": {},
   "source": [
    "# Split the dataset into training and testing using 10 fold"
   ]
  },
  {
   "cell_type": "code",
   "execution_count": 22,
   "metadata": {},
   "outputs": [],
   "source": [
    "index=np.zeros((1,np.shape(y_d)[0]))\n",
    "for i in range(0,np.shape(y_d)[0],10):\n",
    "    index[0,i]=1\n",
    "    \n",
    "a,idx=np.where(index==0)\n",
    "x_train,y_train= x_d[idx,:],y_d[idx]\n",
    "\n",
    "\n",
    "a,idx=np.where(index==1)\n",
    "x_test,y_test= x_d[idx,:],y_d[idx]    "
   ]
  },
  {
   "cell_type": "markdown",
   "metadata": {},
   "source": [
    "# NaiveBayes Algorithm"
   ]
  },
  {
   "cell_type": "code",
   "execution_count": 23,
   "metadata": {},
   "outputs": [],
   "source": [
    "class NaiveBayes:\n",
    "\n",
    "    def fit(self, X, y):\n",
    "        n_samples, n_features = X.shape\n",
    "        self._classes = np.unique(y)\n",
    "        n_classes = len(self._classes)\n",
    "\n",
    "        # calculate mean, var, and prior for each class\n",
    "        self._mean = np.zeros((n_classes, n_features), dtype=np.float64)\n",
    "        self._std = np.zeros((n_classes, n_features), dtype=np.float64)\n",
    "        self._priors =  np.zeros(n_classes, dtype=np.float64)\n",
    "        \n",
    "        \n",
    "        for c in self._classes:\n",
    "            X_c = X[y==c]\n",
    "            c = int(c)\n",
    "            self._mean[c, :] = X_c.mean(axis=0)\n",
    "            self._std[c, :] = X_c.std(axis=0)\n",
    "            self._priors[c] = X_c.shape[0] / float(n_samples)\n",
    "\n",
    "            \n",
    "    def predict(self, X):\n",
    "        \n",
    "        y_pred=[]\n",
    "        probabilities=[]\n",
    "        for x in X:\n",
    "            pred,prosterior=self._predict(x)\n",
    "            y_pred.append(pred)\n",
    "            probabilities.append(prosterior)\n",
    "            \n",
    "        return np.array(y_pred),probabilities\n",
    "\n",
    "    def _predict(self, x):\n",
    "        posteriors = []\n",
    "\n",
    "        # calculate posterior probability for each class\n",
    "        for idx, c in enumerate(self._classes):\n",
    "            prior = (self._priors[idx])\n",
    "            \n",
    "            likelihold=np.prod(self._pdf(idx, x))\n",
    "            \n",
    "            posterior = prior * likelihold\n",
    "            posteriors.append(posterior)\n",
    "            \n",
    "        # return class with highest posterior probability\n",
    "        return self._classes[np.argmax(posteriors)], posteriors\n",
    "            \n",
    "    \n",
    "    def _pdf(self, class_idx, x):\n",
    "        mean = self._mean[class_idx]\n",
    "        std = self._std[class_idx]\n",
    "        numerator = np.exp(- (x-mean)**2 / (2 * std))\n",
    "        denominator = np.sqrt(2 * np.pi)* std\n",
    "        return numerator / denominator"
   ]
  },
  {
   "cell_type": "markdown",
   "metadata": {},
   "source": [
    "# Train the naive bayes model with the training data."
   ]
  },
  {
   "cell_type": "code",
   "execution_count": 24,
   "metadata": {},
   "outputs": [],
   "source": [
    "nb = NaiveBayes()\n",
    "nb.fit(x_train, y_train)"
   ]
  },
  {
   "cell_type": "markdown",
   "metadata": {},
   "source": [
    "# Test the model with the testing data."
   ]
  },
  {
   "cell_type": "code",
   "execution_count": 25,
   "metadata": {},
   "outputs": [],
   "source": [
    "predictions,probabilities = nb.predict(x_test)"
   ]
  },
  {
   "cell_type": "markdown",
   "metadata": {},
   "source": [
    "# Compute the prediction accuracy by comparing with the target class label "
   ]
  },
  {
   "cell_type": "code",
   "execution_count": 26,
   "metadata": {},
   "outputs": [
    {
     "name": "stdout",
     "output_type": "stream",
     "text": [
      "Prediction Accuracy =  100.0\n"
     ]
    }
   ],
   "source": [
    "check=y_test==predictions\n",
    "unique,counts=np.unique(check,return_counts=True)\n",
    "\n",
    "accuracy=100*counts/np.shape(y_test)[0]\n",
    "\n",
    "print('Prediction Accuracy = ',accuracy[0])"
   ]
  },
  {
   "cell_type": "markdown",
   "metadata": {},
   "source": [
    "# Plot the ROC curve (tp vs fp) true positive vs false positive"
   ]
  },
  {
   "cell_type": "code",
   "execution_count": 27,
   "metadata": {},
   "outputs": [],
   "source": [
    "probs=np.array(probabilities)[:,1]\n",
    "fpr,tpr,thresholds=metrics.roc_curve(y_test,probs,pos_label=1)"
   ]
  },
  {
   "cell_type": "code",
   "execution_count": 28,
   "metadata": {
    "scrolled": true
   },
   "outputs": [
    {
     "data": {
      "text/plain": [
       "Text(0.5, 1.0, 'ROC Curve')"
      ]
     },
     "execution_count": 28,
     "metadata": {},
     "output_type": "execute_result"
    },
    {
     "data": {
      "image/png": "[encoded data removed]",
      "text/plain": [
       "<Figure size 432x288 with 1 Axes>"
      ]
     },
     "metadata": {
      "needs_background": "light"
     },
     "output_type": "display_data"
    }
   ],
   "source": [
    "plt.plot(fpr,tpr)\n",
    "plt.xlabel('False positive')\n",
    "plt.ylabel('True positive')\n",
    "plt.title('ROC Curve')"
   ]
  },
  {
   "cell_type": "markdown",
   "metadata": {},
   "source": [
    "# Print the Probabilities"
   ]
  },
  {
   "cell_type": "code",
   "execution_count": 29,
   "metadata": {},
   "outputs": [
    {
     "data": {
      "text/plain": [
       "[[4.592875507364657, 8.678417976332399e-07],\n",
       " [3.3946060281624457, 1.3918191209109607e-06],\n",
       " [3.1708544059118995, 9.917872738488513e-06],\n",
       " [3.7121840925989735, 3.2106891384365127e-06],\n",
       " [4.385188849814459, 6.894334329391726e-07],\n",
       " [2.919423833080903e-18, 0.20572194164501617],\n",
       " [1.702424243128028e-07, 0.05797072454092939],\n",
       " [2.7761995124803247e-19, 0.3147884063499266],\n",
       " [4.598947893300086e-09, 0.4659247849923372],\n",
       " [3.6555193174701836e-13, 0.7717506559294005]]"
      ]
     },
     "execution_count": 29,
     "metadata": {},
     "output_type": "execute_result"
    }
   ],
   "source": [
    "probabilities"
   ]
  }
 ],
 "metadata": {
  "kernelspec": {
   "display_name": "Python 3",
   "language": "python",
   "name": "python3"
  },
  "language_info": {
   "codemirror_mode": {
    "name": "ipython",
    "version": 3
   },
   "file_extension": ".py",
   "mimetype": "text/x-python",
   "name": "python",
   "nbconvert_exporter": "python",
   "pygments_lexer": "ipython3",
   "version": "3.7.4"
  }
 },
 "nbformat": 4,
 "nbformat_minor": 2
}
